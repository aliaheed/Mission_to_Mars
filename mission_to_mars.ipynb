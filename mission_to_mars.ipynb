{
 "cells": [
  {
   "cell_type": "code",
   "execution_count": 1,
   "metadata": {},
   "outputs": [],
   "source": [
    "# Dependencies\n",
    "from bs4 import BeautifulSoup\n",
    "import requests\n",
    "import os\n",
    "\n",
    "from splinter import Browser\n",
    "import time"
   ]
  },
  {
   "cell_type": "code",
   "execution_count": 2,
   "metadata": {},
   "outputs": [],
   "source": [
    "def get_news():\n",
    "    url = 'https://mars.nasa.gov/news/?page=0&per_page=40&order=publish_date+desc%2Ccreated_at+desc&search=&year=2019%3Apublish_date&category=19%2C165%2C184%2C204&blank_scope=Latest'\n",
    "    response = requests.get(url)\n",
    "    soup = BeautifulSoup(response.text, 'html.parser')\n",
    "    results = soup.find_all('div', class_=\"slide\")\n",
    "    for result in results:\n",
    "        \n",
    "        try:\n",
    "            title = result.find('div', class_=\"content_title\").text\n",
    "            para = result.find('div', class_=\"rollover_description_inner\").text\n",
    "            #para = result.a['href']\n",
    "            # Identify and return title of listing\n",
    "\n",
    "            # Identify and return price of listing\n",
    "            # price = result.a.span.text\n",
    "            # Identify and return link to listing\n",
    "            #link = result.a['href']\n",
    "\n",
    "            # Print results only if title, price, and link are available\n",
    "    #         if (title and para):\n",
    "    #             print('-------------')\n",
    "    #             print(title)\n",
    "    #             print(para)\n",
    "    #             #print(link)\n",
    "        except AttributeError as e:\n",
    "            return e\n",
    "\n",
    "        return {\"news_title\":title,\"news_p\":para}"
   ]
  },
  {
   "cell_type": "code",
   "execution_count": 3,
   "metadata": {},
   "outputs": [
    {
     "name": "stdout",
     "output_type": "stream",
     "text": [
      "{'news_title': '\\n\\nWhy This Martian Full Moon Looks Like Candy\\n\\n', 'news_p': \"\\nFor the first time, NASA's Mars Odyssey orbiter has caught the Martian moon Phobos during a full moon phase. Each color in this new image represents a temperature range detected by Odyssey's infrared camera.\\n\"}\n"
     ]
    }
   ],
   "source": [
    "news = get_news()\n",
    "print (news)"
   ]
  },
  {
   "cell_type": "code",
   "execution_count": 4,
   "metadata": {},
   "outputs": [
    {
     "name": "stdout",
     "output_type": "stream",
     "text": [
      "/c/Users/aliqu/AppData/Local/Continuum/anaconda3/envs/Py37/chromedriver\n"
     ]
    }
   ],
   "source": [
    " # https://splinter.readthedocs.io/en/latest/drivers/chrome.html\n",
    "!which chromedriver"
   ]
  },
  {
   "cell_type": "code",
   "execution_count": 5,
   "metadata": {},
   "outputs": [],
   "source": [
    "def init_browser():\n",
    "    executable_path = {'executable_path': 'chromedriver.exe'}\n",
    "    return Browser('chrome', **executable_path, headless=False)\n"
   ]
  },
  {
   "cell_type": "code",
   "execution_count": 6,
   "metadata": {},
   "outputs": [],
   "source": [
    "browser = init_browser()\n"
   ]
  },
  {
   "cell_type": "code",
   "execution_count": 22,
   "metadata": {},
   "outputs": [],
   "source": [
    "def get_featured_image():\n",
    "    url = 'https://www.jpl.nasa.gov/spaceimages/?search=&category=Mars'\n",
    "\n",
    "    try:\n",
    "        browser.visit(url)\n",
    "        button = browser.find_by_id(\"full_image\")\n",
    "        button.click()\n",
    "        time.sleep(2) \n",
    "        html_string = browser.html\n",
    "        soup = BeautifulSoup(html_string, 'html.parser')\n",
    "        anchor = soup.find('a','ready')\n",
    "        if anchor.img:\n",
    "            image_url = anchor.img['src']\n",
    "        featured_image_url = \"https://www.jpl.nasa.gov\" + image_url\n",
    "    \n",
    "    except:\n",
    "        pass\n",
    "    \n",
    "    return featured_image_url"
   ]
  },
  {
   "cell_type": "code",
   "execution_count": 23,
   "metadata": {},
   "outputs": [
    {
     "name": "stdout",
     "output_type": "stream",
     "text": [
      "https://www.jpl.nasa.gov/spaceimages/images/mediumsize/PIA20465_ip.jpg\n"
     ]
    }
   ],
   "source": [
    "print(get_featured_image())"
   ]
  },
  {
   "cell_type": "code",
   "execution_count": 19,
   "metadata": {},
   "outputs": [
    {
     "name": "stdout",
     "output_type": "stream",
     "text": [
      "https://www.jpl.nasa.gov/spaceimages/images/mediumsize/PIA20465_ip.jpg\n"
     ]
    }
   ],
   "source": [
    "featured_image_url = get_featured_image()\n",
    "print(featured_image_url)"
   ]
  },
  {
   "cell_type": "code",
   "execution_count": 24,
   "metadata": {},
   "outputs": [],
   "source": [
    "browser = init_browser()"
   ]
  },
  {
   "cell_type": "code",
   "execution_count": 25,
   "metadata": {},
   "outputs": [],
   "source": [
    "def get_latest_weather():\n",
    "    url = 'https://twitter.com/marswxreport?lang=en'\n",
    "    browser.visit(url)\n",
    "    html_string = browser.html\n",
    "    soup = BeautifulSoup(html_string, 'lxml')\n",
    "\n",
    "    latest_weather = soup.find('div','js-tweet-text-container').text.strip()\n",
    "    return latest_weather"
   ]
  },
  {
   "cell_type": "code",
   "execution_count": 26,
   "metadata": {},
   "outputs": [
    {
     "name": "stdout",
     "output_type": "stream",
     "text": [
      "InSight sol 159 (2019-05-08) low -100.3ºC (-148.5ºF) high -21.6ºC (-6.9ºF)\n",
      "winds from the SW at 4.6 m/s (10.4 mph) gusting to 15.3 m/s (34.2 mph)\n",
      "pressure at 7.40 hPapic.twitter.com/rg5UKl8dLc\n"
     ]
    }
   ],
   "source": [
    "latest_weather = get_latest_weather()\n",
    "print(latest_weather)"
   ]
  },
  {
   "cell_type": "code",
   "execution_count": 27,
   "metadata": {},
   "outputs": [],
   "source": [
    "def get_facts():\n",
    "    url = 'https://space-facts.com/mars/'\n",
    "    browser.visit(url)\n",
    "    html_string = browser.html\n",
    "    soup = BeautifulSoup(html_string, 'lxml')\n",
    "    keys =[]\n",
    "    values=[]\n",
    "    table = soup.find('table','tablepress tablepress-id-mars')\n",
    "    for row in table.find_all('tr'):\n",
    "        columns = row.find_all('td')\n",
    "        keys.append(columns[0].text)\n",
    "        values.append(columns[1].text)\n",
    "    facts = dict(zip(keys, values))\n",
    "    return facts"
   ]
  },
  {
   "cell_type": "code",
   "execution_count": 28,
   "metadata": {},
   "outputs": [
    {
     "name": "stdout",
     "output_type": "stream",
     "text": [
      "{'Equatorial Diameter:': '6,792 km\\n', 'Polar Diameter:': '6,752 km\\n', 'Mass:': '6.42 x 10^23 kg (10.7% Earth)', 'Moons:': '2 (Phobos & Deimos)', 'Orbit Distance:': '227,943,824 km (1.52 AU)', 'Orbit Period:': '687 days (1.9 years)\\n', 'Surface Temperature: ': '-153 to 20 °C', 'First Record:': '2nd millennium BC', 'Recorded By:': 'Egyptian astronomers'}\n"
     ]
    }
   ],
   "source": [
    "facts = get_facts()\n",
    "print(facts)"
   ]
  },
  {
   "cell_type": "code",
   "execution_count": 29,
   "metadata": {},
   "outputs": [],
   "source": [
    "browser = init_browser()"
   ]
  },
  {
   "cell_type": "code",
   "execution_count": 30,
   "metadata": {},
   "outputs": [],
   "source": [
    "def get_hemispheres():\n",
    "    hemisphere_image_urls = []\n",
    "    url = 'https://astrogeology.usgs.gov/search/results?q=hemisphere+enhanced&k1=target&v1=Mars'\n",
    "    browser.visit(url)     \n",
    "    html_string = browser.html\n",
    "    soup = BeautifulSoup(html_string, 'lxml')\n",
    "    for header in soup.find_all(\"h3\"):\n",
    "        title = header.text\n",
    "        uri = header.find_previous(\"a\")\n",
    "        image_url = 'https://astrogeology.usgs.gov'+ uri['href'] \n",
    "        browser.visit(image_url)\n",
    "\n",
    "        sub_html_string = browser.html\n",
    "        sub_soup = BeautifulSoup(sub_html_string, 'lxml')\n",
    "        image_url='https://astrogeology.usgs.gov' + str(sub_soup.find('img','wide-image')['src'])\n",
    "        hemisphere_image_urls.append({\"title\": title, \"img_url\": image_url})\n",
    "        browser.back()\n",
    "    return hemisphere_image_urls"
   ]
  },
  {
   "cell_type": "code",
   "execution_count": 31,
   "metadata": {},
   "outputs": [
    {
     "name": "stdout",
     "output_type": "stream",
     "text": [
      "[{'title': 'Cerberus Hemisphere Enhanced', 'img_url': 'https://astrogeology.usgs.gov/cache/images/cfa62af2557222a02478f1fcd781d445_cerberus_enhanced.tif_full.jpg'}, {'title': 'Schiaparelli Hemisphere Enhanced', 'img_url': 'https://astrogeology.usgs.gov/cache/images/3cdd1cbf5e0813bba925c9030d13b62e_schiaparelli_enhanced.tif_full.jpg'}, {'title': 'Syrtis Major Hemisphere Enhanced', 'img_url': 'https://astrogeology.usgs.gov/cache/images/ae209b4e408bb6c3e67b6af38168cf28_syrtis_major_enhanced.tif_full.jpg'}, {'title': 'Valles Marineris Hemisphere Enhanced', 'img_url': 'https://astrogeology.usgs.gov/cache/images/7cf2da4bf549ed01c17f206327be4db7_valles_marineris_enhanced.tif_full.jpg'}]\n"
     ]
    }
   ],
   "source": [
    "hemisphere_image_urls = get_hemispheres()\n",
    "print(hemisphere_image_urls)"
   ]
  },
  {
   "cell_type": "code",
   "execution_count": null,
   "metadata": {},
   "outputs": [],
   "source": [
    "# hemisphere_image_urls = []\n",
    "# url = 'https://astrogeology.usgs.gov/search/results?q=hemisphere+enhanced&k1=target&v1=Mars'"
   ]
  },
  {
   "cell_type": "code",
   "execution_count": null,
   "metadata": {},
   "outputs": [],
   "source": [
    "# browser.visit(url)     \n",
    "# html_string = browser.html\n",
    "# soup = BeautifulSoup(html_string, 'lxml')\n"
   ]
  },
  {
   "cell_type": "code",
   "execution_count": null,
   "metadata": {},
   "outputs": [],
   "source": [
    "\n",
    "\n",
    "# for header in soup.find_all(\"h3\"):\n",
    "#     title = header.text\n",
    "#     uri = header.find_previous(\"a\")\n",
    "#     image_url = 'https://astrogeology.usgs.gov'+ uri['href'] \n",
    "#     browser.visit(image_url)\n",
    "\n",
    "#     sub_html_string = browser.html\n",
    "#     sub_soup = BeautifulSoup(sub_html_string, 'lxml')\n",
    "#     image_url='https://astrogeology.usgs.gov' + str(sub_soup.find('img','wide-image')['src'])\n",
    "#     hemisphere_image_urls.append({\"title\": title, \"img_url\": image_url})\n",
    "#     browser.back()\n"
   ]
  },
  {
   "cell_type": "code",
   "execution_count": null,
   "metadata": {},
   "outputs": [],
   "source": [
    "# print(hemisphere_image_urls)"
   ]
  },
  {
   "cell_type": "code",
   "execution_count": 32,
   "metadata": {},
   "outputs": [],
   "source": [
    "def scrape():\n",
    "    output = {}\n",
    "    \n",
    "    news = get_news()\n",
    "    \n",
    "    featured_image_url= get_featured_image()\n",
    "    \n",
    "    latest_weather=get_latest_weather()\n",
    "    \n",
    "    facts =get_facts()\n",
    "    \n",
    "    hemisphere_image_urls =get_hemispheres() \n",
    "    \n",
    "    output ={ \"news\":news,\"featured_image_url\":featured_image_url,\"weather\":latest_weather,\"facts\":facts, \"hemisphere_image_urls\":hemisphere_image_urls\n",
    "    }\n",
    "    return output"
   ]
  },
  {
   "cell_type": "code",
   "execution_count": 37,
   "metadata": {},
   "outputs": [
    {
     "name": "stdout",
     "output_type": "stream",
     "text": [
      "{'news': {'news_title': '\\n\\nWhy This Martian Full Moon Looks Like Candy\\n\\n', 'news_p': \"\\nFor the first time, NASA's Mars Odyssey orbiter has caught the Martian moon Phobos during a full moon phase. Each color in this new image represents a temperature range detected by Odyssey's infrared camera.\\n\"}, 'featured_image_url': 'https://www.jpl.nasa.gov/spaceimages/images/mediumsize/PIA19643_ip.jpg', 'weather': 'InSight sol 159 (2019-05-08) low -100.3ºC (-148.5ºF) high -21.6ºC (-6.9ºF)\\nwinds from the SW at 4.6 m/s (10.4 mph) gusting to 15.3 m/s (34.2 mph)\\npressure at 7.40 hPapic.twitter.com/rg5UKl8dLc', 'facts': {'Equatorial Diameter:': '6,792 km\\n', 'Polar Diameter:': '6,752 km\\n', 'Mass:': '6.42 x 10^23 kg (10.7% Earth)', 'Moons:': '2 (Phobos & Deimos)', 'Orbit Distance:': '227,943,824 km (1.52 AU)', 'Orbit Period:': '687 days (1.9 years)\\n', 'Surface Temperature: ': '-153 to 20 °C', 'First Record:': '2nd millennium BC', 'Recorded By:': 'Egyptian astronomers'}, 'hemisphere_image_urls': [{'title': 'Cerberus Hemisphere Enhanced', 'img_url': 'https://astrogeology.usgs.gov/cache/images/cfa62af2557222a02478f1fcd781d445_cerberus_enhanced.tif_full.jpg'}, {'title': 'Schiaparelli Hemisphere Enhanced', 'img_url': 'https://astrogeology.usgs.gov/cache/images/3cdd1cbf5e0813bba925c9030d13b62e_schiaparelli_enhanced.tif_full.jpg'}, {'title': 'Syrtis Major Hemisphere Enhanced', 'img_url': 'https://astrogeology.usgs.gov/cache/images/ae209b4e408bb6c3e67b6af38168cf28_syrtis_major_enhanced.tif_full.jpg'}, {'title': 'Valles Marineris Hemisphere Enhanced', 'img_url': 'https://astrogeology.usgs.gov/cache/images/7cf2da4bf549ed01c17f206327be4db7_valles_marineris_enhanced.tif_full.jpg'}]}\n"
     ]
    }
   ],
   "source": [
    "#call function to initialize Chrome Browser using Splinter\n",
    "browser = init_browser()\n",
    "\n",
    "#call scrape function to call the other scraping methods and return the consolidated information into output object\n",
    "output = scrape()\n",
    "print(output)"
   ]
  },
  {
   "cell_type": "code",
   "execution_count": 34,
   "metadata": {},
   "outputs": [],
   "source": [
    "from pymongo import MongoClient"
   ]
  },
  {
   "cell_type": "code",
   "execution_count": 35,
   "metadata": {},
   "outputs": [],
   "source": [
    "client = MongoClient(\"mongodb://localhost:27017\")\n",
    "db = client.mission_to_mars"
   ]
  },
  {
   "cell_type": "code",
   "execution_count": 36,
   "metadata": {},
   "outputs": [],
   "source": [
    "new_info = db.mars_info.find_one()\n",
    "new_info"
   ]
  },
  {
   "cell_type": "code",
   "execution_count": null,
   "metadata": {},
   "outputs": [],
   "source": []
  }
 ],
 "metadata": {
  "kernelspec": {
   "display_name": "Python 3",
   "language": "python",
   "name": "python3"
  },
  "language_info": {
   "codemirror_mode": {
    "name": "ipython",
    "version": 3
   },
   "file_extension": ".py",
   "mimetype": "text/x-python",
   "name": "python",
   "nbconvert_exporter": "python",
   "pygments_lexer": "ipython3",
   "version": "3.7.1"
  }
 },
 "nbformat": 4,
 "nbformat_minor": 2
}
